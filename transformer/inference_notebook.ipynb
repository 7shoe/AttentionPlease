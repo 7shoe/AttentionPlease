{
 "cells": [
  {
   "cell_type": "code",
   "execution_count": 1,
   "id": "f6b79b07-8a74-4a83-b07f-629eb4b03eff",
   "metadata": {},
   "outputs": [],
   "source": [
    "from pathlib import Path\n",
    "from tokenizer.BPE import Tokenizer\n",
    "import numpy as np\n",
    "from typing import Optional\n",
    "import yaml\n",
    "\n",
    "import torch\n",
    "import torch.nn as nn\n",
    "\n",
    "from model import Transformer\n",
    "\n",
    "from torch.utils.data import DataLoader\n",
    "from utils.dataset import NeuralTranslationDataset\n",
    "\n",
    "# DEBUG\n",
    "from utils.vis import plot_two_runs\n",
    "\n",
    "from matplotlib import pyplot as plt"
   ]
  },
  {
   "cell_type": "code",
   "execution_count": 2,
   "id": "46ad00e5-4b87-4309-84f1-4d30ecf12bd6",
   "metadata": {},
   "outputs": [
    {
     "name": "stdout",
     "output_type": "stream",
     "text": [
      "🔄 Loading weights from: /eagle/projects/argonne_tpc/siebenschuh/attention_from_scratch/data/checkpoints/1748304942_epoch20.pth\n",
      "✅ Model loaded from: ./logs/1748304942.yaml\n",
      "✅ Weights loaded from: /eagle/projects/argonne_tpc/siebenschuh/attention_from_scratch/data/checkpoints/1748304942_epoch20.pth\n"
     ]
    }
   ],
   "source": [
    "# load tokenizer\n",
    "tokenizer = Tokenizer(compute_vocab=False, \n",
    "                      max_vocab_size=37_005,\n",
    "                      corpus_source='wmt',\n",
    "                      vocab_dest_file=Path('./data/dest/wmt_37k_tokens.yaml'))\n",
    "\n",
    "# device\n",
    "device = torch.device('cuda')\n",
    "\n",
    "# model\n",
    "transformer = Transformer(pre_trained=True, yaml_path='./logs/1748304942.yaml')\n",
    "\n",
    "# test set\n",
    "data_test = NeuralTranslationDataset(subset='test') \n",
    "\n",
    "# dataloaders\n",
    "# -train\n",
    "test_loader = DataLoader(data_test, batch_size=2,\n",
    "                         shuffle=False, num_workers=4, pin_memory=True)\n",
    "\n",
    "for batch in test_loader:\n",
    "    break"
   ]
  },
  {
   "cell_type": "code",
   "execution_count": 3,
   "id": "85668fe2-74e7-4abd-ae07-63648b59cb7a",
   "metadata": {},
   "outputs": [
    {
     "data": {
      "text/plain": [
       "'<BOS>urspruenglich war die schulhofsanierung sogar schon in den jahren geplant doch hohe unplanmaeige ausgaben brachten eine verschiebung<EOS><PAD><PAD><PAD><PAD><PAD><PAD><PAD><PAD><PAD><PAD><PAD><PAD><PAD><PAD><PAD><PAD><PAD><PAD><PAD><PAD><PAD><PAD><PAD><PAD><PAD><PAD><PAD><PAD><PAD><PAD><PAD><PAD><PAD><PAD><PAD>'"
      ]
     },
     "execution_count": 3,
     "metadata": {},
     "output_type": "execute_result"
    }
   ],
   "source": [
    "\"\".join(tokenizer.decode(batch['src_ids'].detach().cpu()[0,:].tolist()))"
   ]
  },
  {
   "cell_type": "code",
   "execution_count": 4,
   "id": "6361abe1-9afc-4fdf-91d0-644892409c2e",
   "metadata": {},
   "outputs": [
    {
     "data": {
      "text/plain": [
       "'<BOS>the school yard renovation was originally planned back in however high unplanned expenses meant that the work had to be pushed back<EOS><PAD><PAD><PAD><PAD><PAD><PAD><PAD><PAD><PAD><PAD><PAD><PAD><PAD><PAD><PAD><PAD><PAD><PAD><PAD><PAD><PAD><PAD><PAD><PAD><PAD><PAD><PAD><PAD><PAD><PAD><PAD>'"
      ]
     },
     "execution_count": 4,
     "metadata": {},
     "output_type": "execute_result"
    }
   ],
   "source": [
    "\"\".join(tokenizer.decode(batch['tgt_ids'].detach().cpu()[0,:].tolist()))"
   ]
  },
  {
   "cell_type": "code",
   "execution_count": 5,
   "id": "ce9a7411-37cb-40c3-9b25-f2c75bd02aa1",
   "metadata": {},
   "outputs": [],
   "source": [
    "pred = transformer.generate(src_ids=batch['src_ids'].to(torch.device('cuda')), \n",
    "                            L_max=64, \n",
    "                            eos_idx=tokenizer.token_vocab['<EOS>'],\n",
    "                            temperature=0.2)"
   ]
  },
  {
   "cell_type": "code",
   "execution_count": 6,
   "id": "15cf72ad-280c-4c93-bb95-20e3e4b16fcc",
   "metadata": {},
   "outputs": [
    {
     "data": {
      "text/plain": [
       "tensor([[[ 0.0112, -0.2074,  0.1559,  ...,  0.0985,  0.0603, -0.1851],\n",
       "         [ 0.0125, -0.2080,  0.1565,  ...,  0.0996,  0.0598, -0.1854],\n",
       "         [ 0.0161, -0.2101,  0.1581,  ...,  0.1013,  0.0570, -0.1859],\n",
       "         ...,\n",
       "         [ 0.0247, -0.2057,  0.1445,  ...,  0.0953,  0.0553, -0.1962],\n",
       "         [ 0.0244, -0.2054,  0.1444,  ...,  0.0951,  0.0551, -0.1967],\n",
       "         [ 0.0239, -0.2056,  0.1446,  ...,  0.0949,  0.0556, -0.1976]],\n",
       "\n",
       "        [[-0.0635, -0.1616,  0.1301,  ...,  0.0974,  0.0014, -0.2508],\n",
       "         [-0.0616, -0.1619,  0.1303,  ...,  0.0986,  0.0007, -0.2506],\n",
       "         [-0.0555, -0.1627,  0.1313,  ...,  0.0955, -0.0025, -0.2492],\n",
       "         ...,\n",
       "         [-0.0500, -0.1651,  0.1187,  ...,  0.0949, -0.0084, -0.2497],\n",
       "         [-0.0503, -0.1651,  0.1186,  ...,  0.0946, -0.0084, -0.2501],\n",
       "         [-0.0507, -0.1653,  0.1193,  ...,  0.0946, -0.0080, -0.2508]]],\n",
       "       device='cuda:0', grad_fn=<UnsafeViewBackward0>)"
      ]
     },
     "execution_count": 6,
     "metadata": {},
     "output_type": "execute_result"
    }
   ],
   "source": [
    "transformer(**batch)"
   ]
  },
  {
   "cell_type": "code",
   "execution_count": 7,
   "id": "ef1b4a2a-16bc-4cc0-8ebc-d6fa0d557a3f",
   "metadata": {},
   "outputs": [
    {
     "data": {
      "text/plain": [
       "array([[[[False,  True,  True, ...,  True,  True,  True],\n",
       "         [False, False,  True, ...,  True,  True,  True],\n",
       "         [False, False, False, ...,  True,  True,  True],\n",
       "         ...,\n",
       "         [False, False, False, ...,  True,  True,  True],\n",
       "         [False, False, False, ...,  True,  True,  True],\n",
       "         [False, False, False, ...,  True,  True,  True]]],\n",
       "\n",
       "\n",
       "       [[[False,  True,  True, ...,  True,  True,  True],\n",
       "         [False, False,  True, ...,  True,  True,  True],\n",
       "         [False, False, False, ...,  True,  True,  True],\n",
       "         ...,\n",
       "         [False, False, False, ...,  True,  True,  True],\n",
       "         [False, False, False, ...,  True,  True,  True],\n",
       "         [False, False, False, ...,  True,  True,  True]]]])"
      ]
     },
     "execution_count": 7,
     "metadata": {},
     "output_type": "execute_result"
    }
   ],
   "source": [
    "transformer.tgt_mask.detach().cpu().numpy()"
   ]
  },
  {
   "cell_type": "code",
   "execution_count": 8,
   "id": "4ccfad6a-83cf-40c9-83b3-51c7949c7fda",
   "metadata": {},
   "outputs": [
    {
     "data": {
      "text/plain": [
       "array([[    1,     1,    96, 21788, 29894,   195, 30469,  9877,  1451,\n",
       "        18117,  1041, 32726,   181,  8012,   125,  5932,  4107,    74,\n",
       "        32719,   181, 25402,   428,  6239,    24,   315,    99,  2534,\n",
       "         5100,   151,   178,  2050,  9993,  8012,     2,     0,     0,\n",
       "            0,     0,     0,     0,     0,     0,     0,     0,     0,\n",
       "            0,     0,     0,     0,     0,     0,     0,     0,     0,\n",
       "            0,     0,     0,     0,     0,     0,     0,     0,     0,\n",
       "            0],\n",
       "       [    1,     1, 24816,  2749,  2527,   220,   178, 12678, 29747,\n",
       "         7276,     8,  6220,   173,  7591,  2422, 30722, 18571,    61,\n",
       "            2,     0,     0,     0,     0,     0,     0,     0,     0,\n",
       "            0,     0,     0,     0,     0,     0,     0,     0,     0,\n",
       "            0,     0,     0,     0,     0,     0,     0,     0,     0,\n",
       "            0,     0,     0,     0,     0,     0,     0,     0,     0,\n",
       "            0,     0,     0,     0,     0,     0,     0,     0,     0,\n",
       "            0]])"
      ]
     },
     "execution_count": 8,
     "metadata": {},
     "output_type": "execute_result"
    }
   ],
   "source": [
    "transformer.X_after.detach().cpu().numpy()"
   ]
  },
  {
   "cell_type": "code",
   "execution_count": null,
   "id": "47a84662-3fe6-4903-940d-c2c05a45cc30",
   "metadata": {},
   "outputs": [],
   "source": [
    "batch['tgt_ids'][0]"
   ]
  },
  {
   "cell_type": "code",
   "execution_count": null,
   "id": "e93fe61f-2957-4f46-b002-0cd0f555686c",
   "metadata": {},
   "outputs": [],
   "source": []
  }
 ],
 "metadata": {
  "kernelspec": {
   "display_name": "bo",
   "language": "python",
   "name": "bo"
  },
  "language_info": {
   "codemirror_mode": {
    "name": "ipython",
    "version": 3
   },
   "file_extension": ".py",
   "mimetype": "text/x-python",
   "name": "python",
   "nbconvert_exporter": "python",
   "pygments_lexer": "ipython3",
   "version": "3.11.9"
  }
 },
 "nbformat": 4,
 "nbformat_minor": 5
}
