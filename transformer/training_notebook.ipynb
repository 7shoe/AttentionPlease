{
 "cells": [
  {
   "cell_type": "code",
   "execution_count": 1,
   "id": "71a3f8fd-077e-4040-ae55-8e19ecee748d",
   "metadata": {},
   "outputs": [],
   "source": [
    "from pathlib import Path\n",
    "from tokenizer.BPE import Tokenizer\n",
    "from utils.raw_data import load_wmt_chunk_df, get_wmt_df_len\n",
    "from utils.logging import save_yaml_log\n",
    "import numpy as np\n",
    "import math\n",
    "from typing import Optional\n",
    "\n",
    "import torch\n",
    "import torch.nn as nn\n",
    "from torch.optim import Adam, lr_scheduler\n",
    "\n",
    "from model import Transformer\n",
    "\n",
    "from torch.utils.data import DataLoader\n",
    "from utils.dataset import NeuralTranslationDataset\n",
    "\n",
    "# DEBUG\n",
    "from matplotlib import pyplot as plt"
   ]
  },
  {
   "cell_type": "code",
   "execution_count": 2,
   "id": "3ba2ac7f-3113-4bcb-a5e9-9d35c9b1c8db",
   "metadata": {},
   "outputs": [],
   "source": [
    "# load tokenizer\n",
    "tokenizer = Tokenizer(compute_vocab=False, \n",
    "                      max_vocab_size=37_005,\n",
    "                      corpus_source='wmt',\n",
    "                      vocab_dest_file=Path('./data/dest/wmt_37k_tokens.yaml'))"
   ]
  },
  {
   "cell_type": "code",
   "execution_count": 3,
   "id": "4d770ffb-5b66-4b5f-9b29-7acbacc056d4",
   "metadata": {},
   "outputs": [],
   "source": [
    "# device\n",
    "device = torch.device('cuda')"
   ]
  },
  {
   "cell_type": "code",
   "execution_count": 4,
   "id": "951d7791-d161-4c96-be6d-eb49924298fe",
   "metadata": {},
   "outputs": [],
   "source": [
    "# model\n",
    "transformer = Transformer(N=6, \n",
    "                          L=64,\n",
    "                          d=512, \n",
    "                          h=8, \n",
    "                          d_ff=2048,\n",
    "                          n_vocab=len(tokenizer.token_vocab), \n",
    "                          padding_idx=tokenizer.token_vocab['<PAD>'], \n",
    "                          bos_idx=tokenizer.token_vocab['<BOS>'], \n",
    "                          dtype=torch.float, \n",
    "                          device=device)"
   ]
  },
  {
   "cell_type": "code",
   "execution_count": 5,
   "id": "d98674d1-ff81-47ee-968a-212dcea9f389",
   "metadata": {},
   "outputs": [],
   "source": [
    "# criterion\n",
    "criterion = nn.CrossEntropyLoss(ignore_index=tokenizer.token_vocab['<PAD>'])\n",
    "\n",
    "# optimizer\n",
    "optimizer = torch.optim.Adam(transformer.parameters(), lr=1e-4)\n",
    "\n",
    "# scheduler\n",
    "scheduler = lr_scheduler.StepLR(optimizer, step_size=1, gamma=0.95)"
   ]
  },
  {
   "cell_type": "code",
   "execution_count": 6,
   "id": "7b43cc4a-64da-4e7a-86d3-886500c34ac1",
   "metadata": {},
   "outputs": [],
   "source": [
    "# dataset\n",
    "data_test = NeuralTranslationDataset(subset='test')\n",
    "\n",
    "# dataloader\n",
    "loader = DataLoader(data_test,\n",
    "                    batch_size=256,\n",
    "                    shuffle=False,\n",
    "                    num_workers=4, \n",
    "                    pin_memory=True)"
   ]
  },
  {
   "cell_type": "code",
   "execution_count": 7,
   "id": "caf99c8c-d5f9-4fdd-b151-c5ddf6e5f270",
   "metadata": {},
   "outputs": [
    {
     "name": "stdout",
     "output_type": "stream",
     "text": [
      "0\n",
      "0\n"
     ]
    }
   ],
   "source": [
    "loss_list = []\n",
    "num_epochs = 2\n",
    "for epoch in range(1, num_epochs+1):\n",
    "    transformer.train()\n",
    "    total_loss = 0.0\n",
    "\n",
    "    # batch\n",
    "    for j,batch in enumerate(loader):\n",
    "        src = batch['src_ids'].to(device)   # (B, S)\n",
    "        tgt = batch['tgt_ids'].to(device)   # (B, T)\n",
    "\n",
    "        # status\n",
    "        if j % 100 == 0:\n",
    "            print(j)\n",
    "\n",
    "        # logits\n",
    "        logits = transformer(src_ids=src, tgt_ids=tgt)\n",
    "\n",
    "        B, T, V = logits.shape\n",
    "\n",
    "        # loss\n",
    "        loss = criterion(logits.view(B*T, V), tgt.view(B*T))\n",
    "        \n",
    "        # d) backward + step\n",
    "        optimizer.zero_grad()\n",
    "        loss.backward()\n",
    "        torch.nn.utils.clip_grad_norm_(transformer.parameters(), max_norm=1.0)\n",
    "        optimizer.step()\n",
    "\n",
    "        total_loss += loss.item()\n",
    "\n",
    "        # plot loss\n",
    "        loss_list.append(loss.item())\n",
    "\n",
    "        \n",
    "    "
   ]
  },
  {
   "cell_type": "code",
   "execution_count": 8,
   "id": "7c7d15b6-b4dc-4dd3-bd99-49f7dece71b6",
   "metadata": {},
   "outputs": [
    {
     "data": {
      "text/plain": [
       "[<matplotlib.lines.Line2D at 0x14950090c350>]"
      ]
     },
     "execution_count": 8,
     "metadata": {},
     "output_type": "execute_result"
    },
    {
     "data": {
      "image/png": "[encoded data removed]",
      "text/plain": [
       "<Figure size 640x480 with 1 Axes>"
      ]
     },
     "metadata": {},
     "output_type": "display_data"
    }
   ],
   "source": [
    "plt.plot(loss_list)"
   ]
  },
  {
   "cell_type": "code",
   "execution_count": null,
   "id": "ee9dd37f-9e44-4a19-aa11-3b0aa0a532c8",
   "metadata": {},
   "outputs": [],
   "source": []
  }
 ],
 "metadata": {
  "kernelspec": {
   "display_name": "bo",
   "language": "python",
   "name": "bo"
  },
  "language_info": {
   "codemirror_mode": {
    "name": "ipython",
    "version": 3
   },
   "file_extension": ".py",
   "mimetype": "text/x-python",
   "name": "python",
   "nbconvert_exporter": "python",
   "pygments_lexer": "ipython3",
   "version": "3.11.9"
  }
 },
 "nbformat": 4,
 "nbformat_minor": 5
}
